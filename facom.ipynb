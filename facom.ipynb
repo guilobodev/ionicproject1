{
  "nbformat": 4,
  "nbformat_minor": 0,
  "metadata": {
    "colab": {
      "provenance": [],
      "authorship_tag": "ABX9TyODumfyViUpeailxYBT3GFX",
      "include_colab_link": true
    },
    "kernelspec": {
      "name": "python3",
      "display_name": "Python 3"
    },
    "language_info": {
      "name": "python"
    }
  },
  "cells": [
    {
      "cell_type": "markdown",
      "metadata": {
        "id": "view-in-github",
        "colab_type": "text"
      },
      "source": [
        "<a href=\"https://colab.research.google.com/github/guilobodev/ionicproject1/blob/main/facom.ipynb\" target=\"_parent\"><img src=\"https://colab.research.google.com/assets/colab-badge.svg\" alt=\"Open In Colab\"/></a>"
      ]
    },
    {
      "cell_type": "code",
      "execution_count": null,
      "metadata": {
        "colab": {
          "base_uri": "https://localhost:8080/"
        },
        "id": "x09wyUBkiF3v",
        "outputId": "11341d1d-4deb-49a4-b123-06fb6f430308"
      },
      "outputs": [
        {
          "output_type": "stream",
          "name": "stdout",
          "text": [
            "nota1: 11\n",
            "nota2: 1\n",
            "nota invalida\n"
          ]
        }
      ],
      "source": [
        "nota1 = float(input('nota1: '))\n",
        "nota2 = float(input('nota2: '))\n",
        "media = nota1 + nota2 / 2\n",
        "if (nota1 <= 10 and nota2 <= 10):\n",
        "  if (media >= 6):\n",
        "   print('passou')\n",
        "  else:\n",
        "    print('reprovou')\n",
        "else:\n",
        "  print('nota invalida')"
      ]
    },
    {
      "cell_type": "code",
      "source": [
        "salario = 780\n",
        "emprestimo = 1000\n",
        "if (emprestimo < (20/100 * salario)):\n",
        "  print('concedido')\n",
        "else:\n",
        "  print('negado')"
      ],
      "metadata": {
        "colab": {
          "base_uri": "https://localhost:8080/"
        },
        "id": "4tII0DOzjzB2",
        "outputId": "497651d7-4210-4879-9117-3fd329b05c23"
      },
      "execution_count": null,
      "outputs": [
        {
          "output_type": "stream",
          "name": "stdout",
          "text": [
            "negado\n"
          ]
        }
      ]
    },
    {
      "cell_type": "code",
      "source": [
        "gen = str(input('M ou F '))\n",
        "h = float(input('altura: '))\n",
        "\n",
        "if (h < 3.00) :\n",
        "  if ( gen == 'M' or gen =='m'):\n",
        "    formula = (72.7 * h) - 58\n",
        "    print(f'peso ideal: {formula:.3f}')\n",
        "  elif (gen == 'F' or gen == 'f'):\n",
        "    formula = (62.1 * h) - 44.17\n",
        "    print(f'peso ideal: {formula: .3f}')\n",
        "  else:\n",
        "    print('digite a letra correta')\n",
        "else :\n",
        "  print('faça em número flutuante')\n"
      ],
      "metadata": {
        "colab": {
          "base_uri": "https://localhost:8080/"
        },
        "id": "j6aVn67SkTtG",
        "outputId": "92eeafd3-0eca-4f36-92cd-eb759e6032af"
      },
      "execution_count": null,
      "outputs": [
        {
          "output_type": "stream",
          "name": "stdout",
          "text": [
            "M ou F f\n",
            "altura: 1.63\n",
            "peso ideal:  57.053\n"
          ]
        }
      ]
    },
    {
      "cell_type": "code",
      "source": [
        "inteiro = 896\n",
        "i1 = inteiro % 10\n",
        "i2 = (inteiro // 10) % 10\n",
        "i3 = (inteiro // 100)\n",
        "print(i1 + i2 + i3)"
      ],
      "metadata": {
        "colab": {
          "base_uri": "https://localhost:8080/"
        },
        "id": "TbNB4gkyoJcz",
        "outputId": "a68249dc-ae56-4d5e-b5b7-c31a415a76d0"
      },
      "execution_count": null,
      "outputs": [
        {
          "output_type": "stream",
          "name": "stdout",
          "text": [
            "23\n"
          ]
        }
      ]
    },
    {
      "cell_type": "code",
      "source": [
        "import math\n",
        "inteiro = -1\n",
        "\n",
        "if (inteiro < 0 ):\n",
        "  print('numero invalido')\n",
        "else:\n",
        "  print(math.log(inteiro))\n"
      ],
      "metadata": {
        "colab": {
          "base_uri": "https://localhost:8080/"
        },
        "id": "dwat6oN72cg3",
        "outputId": "8e2fcace-8c1f-4e23-f927-3f61d346ff8f"
      },
      "execution_count": null,
      "outputs": [
        {
          "output_type": "stream",
          "name": "stdout",
          "text": [
            "numero invalido\n"
          ]
        }
      ]
    },
    {
      "cell_type": "code",
      "source": [
        "nota1 = float(input('nota 1: '))\n",
        "nota2 = float(input('nota 2: '))\n",
        "nota3 = float(input('nota 3: '))\n",
        "nota3 = nota3 * 2\n",
        "media = nota1 + nota2 + nota3\n",
        "if (media >= 60):\n",
        "  print('aprovado')\n",
        "else:\n",
        "  print('reprovado')"
      ],
      "metadata": {
        "colab": {
          "base_uri": "https://localhost:8080/"
        },
        "id": "o_31TfxV3KJ0",
        "outputId": "28d55669-7efe-4324-cad8-df521c16b960"
      },
      "execution_count": null,
      "outputs": [
        {
          "output_type": "stream",
          "name": "stdout",
          "text": [
            "nota 1: 6\n",
            "nota 2: 30\n",
            "nota 3: 10\n",
            "reprovado\n"
          ]
        }
      ]
    },
    {
      "cell_type": "code",
      "source": [
        "lab = float(input('nota 1: '))\n",
        "semestral = float(input('nota 2: '))\n",
        "final = float(input('nota 3: '))\n",
        "if (lab <= 10 and semestral <= 10 and final <= 10):\n",
        "    lab = lab * 2\n",
        "    semestral = semestral * 3\n",
        "    final = final * 5\n",
        "    media = lab + semestral + final\n",
        "    if (media <= 2.9):\n",
        "      print(\"reprovado\")\n",
        "    elif (media > 2.9 and media < 4.9 ):\n",
        "      print('recuperação')\n",
        "    else:\n",
        "      print('aprovado')\n",
        "else:\n",
        "    print('notas invalidas')\n",
        "\n"
      ],
      "metadata": {
        "colab": {
          "base_uri": "https://localhost:8080/"
        },
        "id": "3Xqq1PDJ4h4M",
        "outputId": "872ff00e-b044-4b4c-87c2-d9455ace1784"
      },
      "execution_count": null,
      "outputs": [
        {
          "output_type": "stream",
          "name": "stdout",
          "text": [
            "nota 1: 0\n",
            "nota 2: 1\n",
            "nota 3: 0\n",
            "recuperação\n"
          ]
        }
      ]
    },
    {
      "cell_type": "code",
      "source": [
        "dia = int(input('number: '))\n",
        "if (dia == 1):\n",
        "  print('domingo')\n",
        "elif (dia == 2):\n",
        "  print('segunda')"
      ],
      "metadata": {
        "colab": {
          "base_uri": "https://localhost:8080/"
        },
        "id": "CxaKDPLv8SuI",
        "outputId": "85519a58-751f-4e49-c2bb-fabc9fe3e727"
      },
      "execution_count": null,
      "outputs": [
        {
          "output_type": "stream",
          "name": "stdout",
          "text": [
            "number: 1\n",
            "domingo\n"
          ]
        }
      ]
    },
    {
      "cell_type": "code",
      "source": [
        "import math\n",
        "number1 = float(input('number: '))\n",
        "number2 = float(input('number: '))\n",
        "dif = number1 - number2\n",
        "if (number1 > number2):\n",
        "  print(number1)\n",
        "  print(dif)\n",
        "else:\n",
        "  print(number2)\n",
        "  dif = number2 - number1\n",
        "  print(dif)"
      ],
      "metadata": {
        "id": "7Xlt5ith-hjR"
      },
      "execution_count": null,
      "outputs": []
    },
    {
      "cell_type": "code",
      "source": [
        "base_maior = float(input('base maior: '))\n",
        "base_menor = float(input('base menor: '))\n",
        "if (base_maior <= 0 or base_menor <= 0 ):\n",
        "  print('numero invalido')\n",
        "elif (base_maior < base_menor):\n",
        "  print('invalido')\n",
        "else:\n",
        "  altura = float(input('altura: '))\n",
        "  area =((base_maior + base_menor) * altura) // 2\n",
        "  print(area)\n"
      ],
      "metadata": {
        "id": "1QabbXsuTDsu"
      },
      "execution_count": null,
      "outputs": []
    },
    {
      "cell_type": "code",
      "source": [
        "number = int(input('number:'))\n",
        "if (number % 3 == 0 ):\n",
        "  print(\"não é valido para 5\")\n",
        "  print('valido para 3')\n",
        "elif (number % 5 == 0):\n",
        "  print('não é valido para 3')\n",
        "  print('valido para 5')\n",
        "else:\n",
        "  print('nao é valido para nenhum dos dois')"
      ],
      "metadata": {
        "id": "72JjKlL4TIcA"
      },
      "execution_count": null,
      "outputs": []
    },
    {
      "cell_type": "code",
      "source": [
        "value1 = float(input('value 1: '))\n",
        "value2 = float(input('value 2: '))\n",
        "value3 = float(input('value 3: '))\n",
        "if (value1 != value2 + value3 or value2 != value1 + value3 or value3 != value1 + value2):\n",
        "  if (value1 == value2 and value1 == value3):\n",
        "    print('equilatero')\n",
        "  elif (value1 == value2 or value1 == value3 or value2 == value3):\n",
        "    print('isoceles')\n",
        "  elif (value1 != value2 and value1 != value3 and value2 != value3):\n",
        "    print('escaleno')"
      ],
      "metadata": {
        "id": "JymEwfwGTLfT"
      },
      "execution_count": null,
      "outputs": []
    },
    {
      "cell_type": "code",
      "source": [
        "idade = int(input('Qual é a sua idade? '))\n",
        "servico = int(input('quanto tempo de serviço? '))\n",
        "if (servico >= idade):\n",
        "  print('inválido, idade precisa ser maior que o tempo de serviço.')\n",
        "else:\n",
        "  if (idade >= 65 or servico >= 30):\n",
        "    print('Acesso para aposentadoria')\n",
        "  elif (idade >= 65 and servico >= 25):\n",
        "    print('acesso para aposentadoria')\n",
        "  else:\n",
        "    tempo = 65 - idade\n",
        "    servico = 30 - servico\n",
        "    print('acesso negado')\n",
        "    print(f'Por idade ainda faltam: {tempo} anos ')\n",
        "    print(f'Por serviço ainda faltam: {servico} anos')"
      ],
      "metadata": {
        "id": "xbFVmdJUTN4F"
      },
      "execution_count": null,
      "outputs": []
    },
    {
      "cell_type": "code",
      "source": [
        "#imc\n",
        "h = float(input('altura: '))\n",
        "peso = float(input('peso: '))\n",
        "imc = peso / (h * h)\n",
        "print(f'imc {imc:.2f}')\n",
        "if (imc < 18.5):\n",
        "  print('abaixo do peso')\n",
        "elif ( 18.6 <= imc <= 24.9 ):\n",
        "  print(\"saudavel\")\n",
        "elif ( 25 <= imc <= 29.9):\n",
        "  print('peso em excesso')\n",
        "elif ( 30 <= imc <= 34.9):\n",
        "  print('obesidade grau I')\n",
        "elif ( 35 <= imc < 39.9):\n",
        "  print('obesidade grau II')\n",
        "elif (imc >= 40):\n",
        "  print('obesidade grau III')"
      ],
      "metadata": {
        "id": "T2u4ukw8TRIt"
      },
      "execution_count": null,
      "outputs": []
    },
    {
      "cell_type": "code",
      "source": [
        "for i in range(1,16):\n",
        "  if i % 3 == 0:\n",
        "    print(i)"
      ],
      "metadata": {
        "id": "0AYcnXu_He0C"
      },
      "execution_count": null,
      "outputs": []
    },
    {
      "cell_type": "code",
      "source": [
        "import time\n",
        "import math\n",
        "i = 10\n",
        "while (i >= 0):\n",
        "  time.sleep(1.0)\n",
        "  print(i)\n",
        "  i = i - 1\n",
        "print('fim')"
      ],
      "metadata": {
        "id": "8qKWemS5Hxjk"
      },
      "execution_count": null,
      "outputs": []
    },
    {
      "cell_type": "code",
      "source": [
        "i = 0\n",
        "while (i < 100000):\n",
        "  print(i)\n",
        "  i = i + 1000"
      ],
      "metadata": {
        "id": "QsA4R0faJlXy"
      },
      "execution_count": null,
      "outputs": []
    },
    {
      "cell_type": "code",
      "source": [
        "lista = []\n",
        "for i in range(0,10):\n",
        "  j = int(input(\"numero:\"))\n",
        "  lista.append(j)\n",
        "print(sum(lista))"
      ],
      "metadata": {
        "id": "a_nQYc1oJ87F"
      },
      "execution_count": null,
      "outputs": []
    },
    {
      "cell_type": "code",
      "source": [
        "lista = []\n",
        "for i in range(0,10):\n",
        "  j = int(input(\"numero:\"))\n",
        "  lista.append(j)\n",
        "media = sum(lista) / len(lista)\n",
        "print(media)"
      ],
      "metadata": {
        "colab": {
          "base_uri": "https://localhost:8080/"
        },
        "id": "gN36-6GqLifP",
        "outputId": "8bcc03b4-b75a-4c34-fc28-473fda69f71b"
      },
      "execution_count": null,
      "outputs": [
        {
          "output_type": "stream",
          "name": "stdout",
          "text": [
            "numero:1\n",
            "numero:2\n",
            "numero:3\n",
            "numero:4\n",
            "numero:5\n",
            "numero:6\n",
            "numero:7\n",
            "numero:8\n",
            "numero:9\n",
            "numero:1\n",
            "4.6\n"
          ]
        }
      ]
    },
    {
      "cell_type": "code",
      "source": [
        "lista = []\n",
        "\n",
        "for i in range(0,10):\n",
        "    j = int(input(\"numero:\"))\n",
        "    lista.append(j)\n",
        "    if j < 0:\n",
        "      lista.remove(j)\n",
        "print(lista)\n",
        "media = sum(lista) / len(lista)\n",
        "print(media)"
      ],
      "metadata": {
        "colab": {
          "base_uri": "https://localhost:8080/"
        },
        "id": "Kk3FuH4FMK1A",
        "outputId": "4ebab480-e4d3-4021-d908-eba379fa8a09"
      },
      "execution_count": null,
      "outputs": [
        {
          "output_type": "stream",
          "name": "stdout",
          "text": [
            "numero:1\n",
            "numero:-1\n",
            "numero:-2\n",
            "numero:-3\n",
            "numero:2\n",
            "numero:3\n",
            "numero:4\n",
            "numero:5\n",
            "numero:6\n",
            "numero:7\n",
            "[1, 2, 3, 4, 5, 6, 7]\n",
            "4.0\n"
          ]
        }
      ]
    },
    {
      "cell_type": "code",
      "source": [],
      "metadata": {
        "colab": {
          "base_uri": "https://localhost:8080/",
          "height": 263
        },
        "id": "3FCMUfRZMdYq",
        "outputId": "e01c2265-b001-4c59-cc57-85340c0fe12e"
      },
      "execution_count": null,
      "outputs": [
        {
          "name": "stdout",
          "output_type": "stream",
          "text": [
            "numero:1\n",
            "numero:2\n",
            "numero:1\n",
            "numero:3\n"
          ]
        },
        {
          "output_type": "error",
          "ename": "IndexError",
          "evalue": "list index out of range",
          "traceback": [
            "\u001b[0;31m---------------------------------------------------------------------------\u001b[0m",
            "\u001b[0;31mIndexError\u001b[0m                                Traceback (most recent call last)",
            "\u001b[0;32m<ipython-input-63-5977daefc7f5>\u001b[0m in \u001b[0;36m<cell line: 6>\u001b[0;34m()\u001b[0m\n\u001b[1;32m      4\u001b[0m     \u001b[0mlista\u001b[0m\u001b[0;34m.\u001b[0m\u001b[0mappend\u001b[0m\u001b[0;34m(\u001b[0m\u001b[0mj\u001b[0m\u001b[0;34m)\u001b[0m\u001b[0;34m\u001b[0m\u001b[0;34m\u001b[0m\u001b[0m\n\u001b[1;32m      5\u001b[0m     \u001b[0mlista\u001b[0m\u001b[0;34m[\u001b[0m\u001b[0;36m0\u001b[0m\u001b[0;34m]\u001b[0m \u001b[0;34m=\u001b[0m \u001b[0;36m1\u001b[0m\u001b[0;34m\u001b[0m\u001b[0;34m\u001b[0m\u001b[0m\n\u001b[0;32m----> 6\u001b[0;31m \u001b[0;32mif\u001b[0m \u001b[0;34m(\u001b[0m\u001b[0mlista\u001b[0m\u001b[0;34m[\u001b[0m\u001b[0mi\u001b[0m\u001b[0;34m]\u001b[0m \u001b[0;34m>\u001b[0m \u001b[0mlista\u001b[0m\u001b[0;34m[\u001b[0m\u001b[0mi\u001b[0m \u001b[0;34m+\u001b[0m \u001b[0;36m1\u001b[0m\u001b[0;34m]\u001b[0m\u001b[0;34m)\u001b[0m\u001b[0;34m:\u001b[0m\u001b[0;34m\u001b[0m\u001b[0;34m\u001b[0m\u001b[0m\n\u001b[0m\u001b[1;32m      7\u001b[0m   \u001b[0mprint\u001b[0m \u001b[0;34m(\u001b[0m\u001b[0mlista\u001b[0m\u001b[0;34m[\u001b[0m\u001b[0mi\u001b[0m\u001b[0;34m]\u001b[0m\u001b[0;34m)\u001b[0m\u001b[0;34m\u001b[0m\u001b[0;34m\u001b[0m\u001b[0m\n",
            "\u001b[0;31mIndexError\u001b[0m: list index out of range"
          ]
        }
      ]
    }
  ]
}